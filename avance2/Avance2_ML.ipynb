{
  "nbformat": 4,
  "nbformat_minor": 0,
  "metadata": {
    "colab": {
      "name": "Avance2-ML.ipynb",
      "provenance": [],
      "collapsed_sections": []
    },
    "kernelspec": {
      "name": "python3",
      "display_name": "Python 3"
    },
    "language_info": {
      "name": "python"
    }
  },
  "cells": [
    {
      "cell_type": "markdown",
      "metadata": {
        "id": "E7gmVbjPuJ5j"
      },
      "source": [
        "###IMPORTACIÓN DE LIBRERÍAS"
      ]
    },
    {
      "cell_type": "code",
      "metadata": {
        "id": "v9jNRfVQBnYM"
      },
      "source": [
        "import numpy as np\n",
        "import pandas as pd\n",
        "import matplotlib.pyplot as plt\n",
        "import missingno as msno \n",
        "import seaborn as sns\n",
        "plt.style.use('seaborn-whitegrid')\n",
        "\n",
        "from sklearn.impute import SimpleImputer\n",
        "\n",
        "from sklearn.model_selection import train_test_split\n",
        "from sklearn.ensemble import RandomForestRegressor\n",
        "from sklearn.metrics import mean_absolute_error\n",
        "from sklearn.preprocessing import LabelEncoder"
      ],
      "execution_count": null,
      "outputs": []
    },
    {
      "cell_type": "markdown",
      "metadata": {
        "id": "O_q_Lrw0uZq3"
      },
      "source": [
        "###CARGA DEL DATASET"
      ]
    },
    {
      "cell_type": "code",
      "metadata": {
        "colab": {
          "base_uri": "https://localhost:8080/",
          "height": 235
        },
        "id": "7dxtPfQ2B0rb",
        "outputId": "adf4cac8-6621-43f4-84ea-ba93da6c0e2f"
      },
      "source": [
        "dataset = pd.read_csv(\"dataset_peliculas_chilenas.csv\", index_col=\"ID\")\n",
        "dataset.head()"
      ],
      "execution_count": null,
      "outputs": [
        {
          "output_type": "execute_result",
          "data": {
            "text/html": [
              "<div>\n",
              "<style scoped>\n",
              "    .dataframe tbody tr th:only-of-type {\n",
              "        vertical-align: middle;\n",
              "    }\n",
              "\n",
              "    .dataframe tbody tr th {\n",
              "        vertical-align: top;\n",
              "    }\n",
              "\n",
              "    .dataframe thead th {\n",
              "        text-align: right;\n",
              "    }\n",
              "</style>\n",
              "<table border=\"1\" class=\"dataframe\">\n",
              "  <thead>\n",
              "    <tr style=\"text-align: right;\">\n",
              "      <th></th>\n",
              "      <th>Title</th>\n",
              "      <th>Year</th>\n",
              "      <th>Age</th>\n",
              "      <th>IMDb</th>\n",
              "      <th>CineChile</th>\n",
              "      <th>Directors</th>\n",
              "      <th>Genres</th>\n",
              "      <th>Language</th>\n",
              "      <th>Runtime</th>\n",
              "    </tr>\n",
              "    <tr>\n",
              "      <th>ID</th>\n",
              "      <th></th>\n",
              "      <th></th>\n",
              "      <th></th>\n",
              "      <th></th>\n",
              "      <th></th>\n",
              "      <th></th>\n",
              "      <th></th>\n",
              "      <th></th>\n",
              "      <th></th>\n",
              "    </tr>\n",
              "  </thead>\n",
              "  <tbody>\n",
              "    <tr>\n",
              "      <th>1</th>\n",
              "      <td>El Chacal de Nahueltoro</td>\n",
              "      <td>1969</td>\n",
              "      <td>NaN</td>\n",
              "      <td>7.7</td>\n",
              "      <td>457</td>\n",
              "      <td>Miguel Littin</td>\n",
              "      <td>Biography, Crime, Drama</td>\n",
              "      <td>Spanish</td>\n",
              "      <td>95</td>\n",
              "    </tr>\n",
              "    <tr>\n",
              "      <th>2</th>\n",
              "      <td>Tres Tristes Tigres</td>\n",
              "      <td>1968</td>\n",
              "      <td>NaN</td>\n",
              "      <td>7.2</td>\n",
              "      <td>369</td>\n",
              "      <td>Raúl Ruiz</td>\n",
              "      <td>Drama</td>\n",
              "      <td>Spanish</td>\n",
              "      <td>100</td>\n",
              "    </tr>\n",
              "    <tr>\n",
              "      <th>3</th>\n",
              "      <td>Valparaíso Mi Amor</td>\n",
              "      <td>1969</td>\n",
              "      <td>13+</td>\n",
              "      <td>7.3</td>\n",
              "      <td>225</td>\n",
              "      <td>Aldo Francia</td>\n",
              "      <td>Drama</td>\n",
              "      <td>Spanish</td>\n",
              "      <td>90</td>\n",
              "    </tr>\n",
              "    <tr>\n",
              "      <th>4</th>\n",
              "      <td>La Batalla de Chile la lucha de un pueblo sin ...</td>\n",
              "      <td>1975</td>\n",
              "      <td>NaN</td>\n",
              "      <td>8.3</td>\n",
              "      <td>207</td>\n",
              "      <td>Patricio Guzmán</td>\n",
              "      <td>Documentary</td>\n",
              "      <td>Spanish</td>\n",
              "      <td>97</td>\n",
              "    </tr>\n",
              "    <tr>\n",
              "      <th>5</th>\n",
              "      <td>Largo Viaje</td>\n",
              "      <td>1967</td>\n",
              "      <td>NaN</td>\n",
              "      <td>7.6</td>\n",
              "      <td>186</td>\n",
              "      <td>Patricio Kaulen</td>\n",
              "      <td>Drama</td>\n",
              "      <td>Spanish</td>\n",
              "      <td>83</td>\n",
              "    </tr>\n",
              "  </tbody>\n",
              "</table>\n",
              "</div>"
            ],
            "text/plain": [
              "                                                Title  Year  ... Language  Runtime\n",
              "ID                                                           ...                  \n",
              "1                             El Chacal de Nahueltoro  1969  ...  Spanish       95\n",
              "2                                 Tres Tristes Tigres  1968  ...  Spanish      100\n",
              "3                                  Valparaíso Mi Amor  1969  ...  Spanish       90\n",
              "4   La Batalla de Chile la lucha de un pueblo sin ...  1975  ...  Spanish       97\n",
              "5                                         Largo Viaje  1967  ...  Spanish       83\n",
              "\n",
              "[5 rows x 9 columns]"
            ]
          },
          "metadata": {
            "tags": []
          },
          "execution_count": 39
        }
      ]
    },
    {
      "cell_type": "code",
      "metadata": {
        "id": "3zD-BOktCj3R",
        "colab": {
          "base_uri": "https://localhost:8080/"
        },
        "outputId": "6dd43ed9-7946-4f15-e875-ea250d5b4e82"
      },
      "source": [
        "dataset.info()"
      ],
      "execution_count": null,
      "outputs": [
        {
          "output_type": "stream",
          "text": [
            "<class 'pandas.core.frame.DataFrame'>\n",
            "Int64Index: 60 entries, 1 to 60\n",
            "Data columns (total 9 columns):\n",
            " #   Column     Non-Null Count  Dtype  \n",
            "---  ------     --------------  -----  \n",
            " 0   Title      60 non-null     object \n",
            " 1   Year       60 non-null     int64  \n",
            " 2   Age        19 non-null     object \n",
            " 3   IMDb       60 non-null     float64\n",
            " 4   CineChile  60 non-null     int64  \n",
            " 5   Directors  60 non-null     object \n",
            " 6   Genres     57 non-null     object \n",
            " 7   Language   60 non-null     object \n",
            " 8   Runtime    60 non-null     int64  \n",
            "dtypes: float64(1), int64(3), object(5)\n",
            "memory usage: 4.7+ KB\n"
          ],
          "name": "stdout"
        }
      ]
    },
    {
      "cell_type": "code",
      "metadata": {
        "colab": {
          "base_uri": "https://localhost:8080/"
        },
        "id": "gswn9X-6upRu",
        "outputId": "ee5b1168-791b-439a-9f52-d085e4019003"
      },
      "source": [
        "dataset.isna().sum()"
      ],
      "execution_count": null,
      "outputs": [
        {
          "output_type": "execute_result",
          "data": {
            "text/plain": [
              "Title         0\n",
              "Year          0\n",
              "Age          41\n",
              "IMDb          0\n",
              "CineChile     0\n",
              "Directors     0\n",
              "Genres        3\n",
              "Language      0\n",
              "Runtime       0\n",
              "dtype: int64"
            ]
          },
          "metadata": {
            "tags": []
          },
          "execution_count": 41
        }
      ]
    },
    {
      "cell_type": "code",
      "metadata": {
        "id": "iNoOKGTLvE-C"
      },
      "source": [
        "#Quedando con los no nulos\n",
        "dataset = dataset[dataset['IMDb'].notna()]"
      ],
      "execution_count": null,
      "outputs": []
    },
    {
      "cell_type": "code",
      "metadata": {
        "colab": {
          "base_uri": "https://localhost:8080/",
          "height": 356
        },
        "id": "C061XSx7vW3n",
        "outputId": "1f643c9f-f3df-49b3-a7ac-ea41000f022c"
      },
      "source": [
        "#Visualizando la cantidad de datos que faltan\n",
        "msno.bar(dataset ,color='red', figsize=(10, 4))"
      ],
      "execution_count": null,
      "outputs": [
        {
          "output_type": "execute_result",
          "data": {
            "text/plain": [
              "<matplotlib.axes._subplots.AxesSubplot at 0x7f876efad110>"
            ]
          },
          "metadata": {
            "tags": []
          },
          "execution_count": 43
        },
        {
          "output_type": "display_data",
          "data": {
            "image/png": "[encoded data removed]",
            "text/plain": [
              "<Figure size 720x288 with 3 Axes>"
            ]
          },
          "metadata": {
            "tags": [],
            "needs_background": "light"
          }
        }
      ]
    },
    {
      "cell_type": "code",
      "metadata": {
        "colab": {
          "base_uri": "https://localhost:8080/"
        },
        "id": "R0aZibuqvs_N",
        "outputId": "2d047570-e619-490e-f521-2a935c896ec3"
      },
      "source": [
        "#Eliminando columna \"CineChile\" \n",
        "dataset = dataset.drop(['CineChile'], axis=1)\n",
        "#dataset = dataset.drop(['IMDb'], axis=1)\n",
        "\n",
        "#\"Title\" se elimina por ser irrelevante para nuestra predicción.\n",
        "dataset = dataset.drop(['Title'], axis=1)\n",
        "dataset.isna().sum()"
      ],
      "execution_count": null,
      "outputs": [
        {
          "output_type": "execute_result",
          "data": {
            "text/plain": [
              "Year          0\n",
              "Age          41\n",
              "IMDb          0\n",
              "Directors     0\n",
              "Genres        3\n",
              "Language      0\n",
              "Runtime       0\n",
              "dtype: int64"
            ]
          },
          "metadata": {
            "tags": []
          },
          "execution_count": 44
        }
      ]
    },
    {
      "cell_type": "code",
      "metadata": {
        "colab": {
          "base_uri": "https://localhost:8080/"
        },
        "id": "VHYzRE9-v_6D",
        "outputId": "eec2cead-b38f-4a7b-f2f4-8c7c6e67e0c5"
      },
      "source": [
        "#Comprobando valores únicos en \"Age\" \n",
        "dataset['Age'].unique()"
      ],
      "execution_count": null,
      "outputs": [
        {
          "output_type": "execute_result",
          "data": {
            "text/plain": [
              "array([nan, '13+', 'all', '18+', '7+'], dtype=object)"
            ]
          },
          "metadata": {
            "tags": []
          },
          "execution_count": 45
        }
      ]
    },
    {
      "cell_type": "code",
      "metadata": {
        "colab": {
          "base_uri": "https://localhost:8080/"
        },
        "id": "4ovS6v4twKYE",
        "outputId": "bc670947-d259-4ab1-97b0-c9dbfc0ab6d6"
      },
      "source": [
        "#Imputando valores nulos en \"Age\" con \"all\"\n",
        "imputer = SimpleImputer(missing_values=np.nan, strategy='constant', fill_value=\"all\")\n",
        "dataset[\"Age\"] = imputer.fit_transform(dataset[[\"Age\"]]).ravel()\n",
        "\n",
        "dataset.isna().sum()"
      ],
      "execution_count": null,
      "outputs": [
        {
          "output_type": "execute_result",
          "data": {
            "text/plain": [
              "Year         0\n",
              "Age          0\n",
              "IMDb         0\n",
              "Directors    0\n",
              "Genres       3\n",
              "Language     0\n",
              "Runtime      0\n",
              "dtype: int64"
            ]
          },
          "metadata": {
            "tags": []
          },
          "execution_count": 46
        }
      ]
    },
    {
      "cell_type": "code",
      "metadata": {
        "colab": {
          "base_uri": "https://localhost:8080/"
        },
        "id": "F2GLbcPKwW00",
        "outputId": "74a84002-53bd-42ec-b17a-38076d316fb7"
      },
      "source": [
        "#Eliminando todas las filas(entradas) en las que hay celdas sin datos\n",
        "dataset.dropna(axis=0, how='any',inplace=True)\n",
        "\n",
        "dataset.isna().sum()"
      ],
      "execution_count": null,
      "outputs": [
        {
          "output_type": "execute_result",
          "data": {
            "text/plain": [
              "Year         0\n",
              "Age          0\n",
              "IMDb         0\n",
              "Directors    0\n",
              "Genres       0\n",
              "Language     0\n",
              "Runtime      0\n",
              "dtype: int64"
            ]
          },
          "metadata": {
            "tags": []
          },
          "execution_count": 47
        }
      ]
    },
    {
      "cell_type": "code",
      "metadata": {
        "colab": {
          "base_uri": "https://localhost:8080/",
          "height": 356
        },
        "id": "l2UIHkSrwcSR",
        "outputId": "ad02b8bb-0d98-42cc-d112-10bfb07a521d"
      },
      "source": [
        "#Visualizar si faltan más datos o no\n",
        "msno.bar(dataset ,color='red', figsize=(10, 4))"
      ],
      "execution_count": null,
      "outputs": [
        {
          "output_type": "execute_result",
          "data": {
            "text/plain": [
              "<matplotlib.axes._subplots.AxesSubplot at 0x7f877d087490>"
            ]
          },
          "metadata": {
            "tags": []
          },
          "execution_count": 48
        },
        {
          "output_type": "display_data",
          "data": {
            "image/png": "[encoded data removed]",
            "text/plain": [
              "<Figure size 720x288 with 3 Axes>"
            ]
          },
          "metadata": {
            "tags": [],
            "needs_background": "light"
          }
        }
      ]
    },
    {
      "cell_type": "code",
      "metadata": {
        "colab": {
          "base_uri": "https://localhost:8080/"
        },
        "id": "MD7jmPkFwhx_",
        "outputId": "ad93af85-98fc-444d-bec3-dccec750b25b"
      },
      "source": [
        "dataset.info()"
      ],
      "execution_count": null,
      "outputs": [
        {
          "output_type": "stream",
          "text": [
            "<class 'pandas.core.frame.DataFrame'>\n",
            "Int64Index: 57 entries, 1 to 60\n",
            "Data columns (total 7 columns):\n",
            " #   Column     Non-Null Count  Dtype  \n",
            "---  ------     --------------  -----  \n",
            " 0   Year       57 non-null     int64  \n",
            " 1   Age        57 non-null     object \n",
            " 2   IMDb       57 non-null     float64\n",
            " 3   Directors  57 non-null     object \n",
            " 4   Genres     57 non-null     object \n",
            " 5   Language   57 non-null     object \n",
            " 6   Runtime    57 non-null     int64  \n",
            "dtypes: float64(1), int64(2), object(4)\n",
            "memory usage: 3.6+ KB\n"
          ],
          "name": "stdout"
        }
      ]
    },
    {
      "cell_type": "code",
      "metadata": {
        "id": "WitsPHyPwq4p"
      },
      "source": [
        "#Elegimos el objetivo(IMDb) y las características\n",
        "y = dataset.IMDb\n",
        "#y = dataset.CineChile\n",
        "\n",
        "X = dataset.drop(['IMDb'], axis=1)\n",
        "#X = dataset.drop(['CineChile'], axis=1)\n",
        "\n",
        "#Dividiendo los datos para el entrenamiento y la prueba\n",
        "X_train_full, X_test_full, y_train, y_test  = train_test_split(X, y,random_state = 0)\n",
        "\n",
        "#Lista de columnas categóricas que se utilizarán como características\n",
        "cat_cols=[\"Age\",\"Directors\",\"Genres\",\"Language\"]\n",
        "\n",
        "#Lista de columnas numéricas que se utilizarán como características\n",
        "numerical_cols = ['Year','Runtime']\n",
        "\n",
        "#Mantener sólo las columnas seleccionadas\n",
        "my_cols = numerical_cols + cat_cols \n",
        "X_train = X_train_full[my_cols].copy()\n",
        "X_test = X_test_full[my_cols].copy()"
      ],
      "execution_count": null,
      "outputs": []
    },
    {
      "cell_type": "markdown",
      "metadata": {
        "id": "k4oZ8WPUw91g"
      },
      "source": [
        "###ENTRENAMIENTO Y TESTEO"
      ]
    },
    {
      "cell_type": "code",
      "metadata": {
        "colab": {
          "base_uri": "https://localhost:8080/",
          "height": 235
        },
        "id": "2YfEVdzWw_2j",
        "outputId": "cfaf63b7-fa1b-4841-f237-f3beec2d61f6"
      },
      "source": [
        "#Visualización de datos de entrenamiento\n",
        "X_train.head()"
      ],
      "execution_count": null,
      "outputs": [
        {
          "output_type": "execute_result",
          "data": {
            "text/html": [
              "<div>\n",
              "<style scoped>\n",
              "    .dataframe tbody tr th:only-of-type {\n",
              "        vertical-align: middle;\n",
              "    }\n",
              "\n",
              "    .dataframe tbody tr th {\n",
              "        vertical-align: top;\n",
              "    }\n",
              "\n",
              "    .dataframe thead th {\n",
              "        text-align: right;\n",
              "    }\n",
              "</style>\n",
              "<table border=\"1\" class=\"dataframe\">\n",
              "  <thead>\n",
              "    <tr style=\"text-align: right;\">\n",
              "      <th></th>\n",
              "      <th>Year</th>\n",
              "      <th>Runtime</th>\n",
              "      <th>Age</th>\n",
              "      <th>Directors</th>\n",
              "      <th>Genres</th>\n",
              "      <th>Language</th>\n",
              "    </tr>\n",
              "    <tr>\n",
              "      <th>ID</th>\n",
              "      <th></th>\n",
              "      <th></th>\n",
              "      <th></th>\n",
              "      <th></th>\n",
              "      <th></th>\n",
              "      <th></th>\n",
              "    </tr>\n",
              "  </thead>\n",
              "  <tbody>\n",
              "    <tr>\n",
              "      <th>41</th>\n",
              "      <td>2000</td>\n",
              "      <td>30</td>\n",
              "      <td>all</td>\n",
              "      <td>Tevo Díaz</td>\n",
              "      <td>Documentary, Short</td>\n",
              "      <td>Spanish, English</td>\n",
              "    </tr>\n",
              "    <tr>\n",
              "      <th>38</th>\n",
              "      <td>1981</td>\n",
              "      <td>70</td>\n",
              "      <td>all</td>\n",
              "      <td>Carlos Flores del Pino</td>\n",
              "      <td>Documentary</td>\n",
              "      <td>Spanish</td>\n",
              "    </tr>\n",
              "    <tr>\n",
              "      <th>8</th>\n",
              "      <td>2015</td>\n",
              "      <td>98</td>\n",
              "      <td>18+</td>\n",
              "      <td>Pablo Larraín</td>\n",
              "      <td>Comedy, Drama, Mystery</td>\n",
              "      <td>Spanish</td>\n",
              "    </tr>\n",
              "    <tr>\n",
              "      <th>15</th>\n",
              "      <td>2000</td>\n",
              "      <td>77</td>\n",
              "      <td>all</td>\n",
              "      <td>Ignacio Agüero</td>\n",
              "      <td>Documentary</td>\n",
              "      <td>Spanish</td>\n",
              "    </tr>\n",
              "    <tr>\n",
              "      <th>32</th>\n",
              "      <td>2014</td>\n",
              "      <td>82</td>\n",
              "      <td>all</td>\n",
              "      <td>Alejandro Fernández Almendras</td>\n",
              "      <td>Crime, Drama, Thriller</td>\n",
              "      <td>Spanish</td>\n",
              "    </tr>\n",
              "  </tbody>\n",
              "</table>\n",
              "</div>"
            ],
            "text/plain": [
              "    Year  Runtime  ...                  Genres          Language\n",
              "ID                 ...                                          \n",
              "41  2000       30  ...      Documentary, Short  Spanish, English\n",
              "38  1981       70  ...             Documentary           Spanish\n",
              "8   2015       98  ...  Comedy, Drama, Mystery           Spanish\n",
              "15  2000       77  ...             Documentary           Spanish\n",
              "32  2014       82  ...  Crime, Drama, Thriller           Spanish\n",
              "\n",
              "[5 rows x 6 columns]"
            ]
          },
          "metadata": {
            "tags": []
          },
          "execution_count": 51
        }
      ]
    },
    {
      "cell_type": "code",
      "metadata": {
        "colab": {
          "base_uri": "https://localhost:8080/",
          "height": 235
        },
        "id": "PtzE9nI2xJCU",
        "outputId": "a040ff3c-a637-4595-f33c-33f6152e84f8"
      },
      "source": [
        "#Visualización de datos de prueba\n",
        "X_test.head()"
      ],
      "execution_count": null,
      "outputs": [
        {
          "output_type": "execute_result",
          "data": {
            "text/html": [
              "<div>\n",
              "<style scoped>\n",
              "    .dataframe tbody tr th:only-of-type {\n",
              "        vertical-align: middle;\n",
              "    }\n",
              "\n",
              "    .dataframe tbody tr th {\n",
              "        vertical-align: top;\n",
              "    }\n",
              "\n",
              "    .dataframe thead th {\n",
              "        text-align: right;\n",
              "    }\n",
              "</style>\n",
              "<table border=\"1\" class=\"dataframe\">\n",
              "  <thead>\n",
              "    <tr style=\"text-align: right;\">\n",
              "      <th></th>\n",
              "      <th>Year</th>\n",
              "      <th>Runtime</th>\n",
              "      <th>Age</th>\n",
              "      <th>Directors</th>\n",
              "      <th>Genres</th>\n",
              "      <th>Language</th>\n",
              "    </tr>\n",
              "    <tr>\n",
              "      <th>ID</th>\n",
              "      <th></th>\n",
              "      <th></th>\n",
              "      <th></th>\n",
              "      <th></th>\n",
              "      <th></th>\n",
              "      <th></th>\n",
              "    </tr>\n",
              "  </thead>\n",
              "  <tbody>\n",
              "    <tr>\n",
              "      <th>36</th>\n",
              "      <td>2002</td>\n",
              "      <td>81</td>\n",
              "      <td>all</td>\n",
              "      <td>Raúl Ruiz</td>\n",
              "      <td>Documentary, Comedy, Drama</td>\n",
              "      <td>Spanish, French</td>\n",
              "    </tr>\n",
              "    <tr>\n",
              "      <th>35</th>\n",
              "      <td>2013</td>\n",
              "      <td>120</td>\n",
              "      <td>all</td>\n",
              "      <td>Ignacio Agüero</td>\n",
              "      <td>Documentary</td>\n",
              "      <td>Spanish</td>\n",
              "    </tr>\n",
              "    <tr>\n",
              "      <th>42</th>\n",
              "      <td>1974</td>\n",
              "      <td>70</td>\n",
              "      <td>all</td>\n",
              "      <td>Silvio Caiozzi, Pablo Perelman</td>\n",
              "      <td>Drama</td>\n",
              "      <td>Spanish</td>\n",
              "    </tr>\n",
              "    <tr>\n",
              "      <th>28</th>\n",
              "      <td>2004</td>\n",
              "      <td>89</td>\n",
              "      <td>all</td>\n",
              "      <td>Raúl Ruiz</td>\n",
              "      <td>Drama</td>\n",
              "      <td>Spanish</td>\n",
              "    </tr>\n",
              "    <tr>\n",
              "      <th>12</th>\n",
              "      <td>1988</td>\n",
              "      <td>55</td>\n",
              "      <td>all</td>\n",
              "      <td>Ignacio Agüero</td>\n",
              "      <td>Documentary</td>\n",
              "      <td>Spanish</td>\n",
              "    </tr>\n",
              "  </tbody>\n",
              "</table>\n",
              "</div>"
            ],
            "text/plain": [
              "    Year  Runtime  ...                      Genres         Language\n",
              "ID                 ...                                             \n",
              "36  2002       81  ...  Documentary, Comedy, Drama  Spanish, French\n",
              "35  2013      120  ...                 Documentary          Spanish\n",
              "42  1974       70  ...                       Drama          Spanish\n",
              "28  2004       89  ...                       Drama          Spanish\n",
              "12  1988       55  ...                 Documentary          Spanish\n",
              "\n",
              "[5 rows x 6 columns]"
            ]
          },
          "metadata": {
            "tags": []
          },
          "execution_count": 52
        }
      ]
    },
    {
      "cell_type": "code",
      "metadata": {
        "id": "6g1BYhgNxOk_"
      },
      "source": [
        "#Copiando los datos para evitar el cambio en el dataset original\n",
        "label_X_train = X_train.copy()\n",
        "label_X_test = X_test.copy()\n",
        "\n",
        "#Aplicar el codificador de etiquetas a cada columna con datos categóricos\n",
        "label_encoder = LabelEncoder()\n",
        "for col in cat_cols:\n",
        "    label_encoder.fit(pd.concat([label_X_train[col], label_X_test[col]], axis=0, sort=False))\n",
        "    label_X_train[col] = label_encoder.transform(label_X_train[col])\n",
        "    label_X_test[col] = label_encoder.transform(label_X_test[col])"
      ],
      "execution_count": null,
      "outputs": []
    },
    {
      "cell_type": "markdown",
      "metadata": {
        "id": "INH2Ak_7xWMq"
      },
      "source": [
        "###Modelos"
      ]
    },
    {
      "cell_type": "code",
      "metadata": {
        "id": "YaF3GoyZxXWb"
      },
      "source": [
        "#Definir los modelos\n",
        "model_1 = RandomForestRegressor(n_estimators=50, random_state=1)\n",
        "model_2 = RandomForestRegressor(n_estimators=100, random_state=1)\n",
        "model_3 = RandomForestRegressor(n_estimators=100, criterion='mae', random_state=1)\n",
        "model_4 = RandomForestRegressor(n_estimators=200, min_samples_split=20, random_state=1)\n",
        "model_5 = RandomForestRegressor(n_estimators=100, max_depth=7, random_state=1)\n",
        "\n",
        "model_6 = RandomForestRegressor(n_estimators=50, max_depth=7, random_state=1)\n",
        "model_7 = RandomForestRegressor(n_estimators=300, max_depth=9, random_state=1)\n",
        "model_8 = RandomForestRegressor(n_estimators=400, max_depth=8, random_state=1)\n",
        "model_9 = RandomForestRegressor(n_estimators=500, max_depth=10, random_state=1)\n",
        "model_10 = RandomForestRegressor(n_estimators=1000, max_depth=10, random_state=1)\n",
        "\n",
        "#Lista de modelos\n",
        "models = [model_1, model_2, model_3, model_4, model_5, model_6, model_7, model_8, model_9, model_10]"
      ],
      "execution_count": null,
      "outputs": []
    },
    {
      "cell_type": "markdown",
      "metadata": {
        "id": "JJjsmBLixcor"
      },
      "source": [
        "###Resultados"
      ]
    },
    {
      "cell_type": "code",
      "metadata": {
        "colab": {
          "base_uri": "https://localhost:8080/"
        },
        "id": "Txj82O8ixeeb",
        "outputId": "976214bf-cecc-4cb6-83d6-98dc93ccbd0d"
      },
      "source": [
        "#Función para comparar diferentes modelos\n",
        "def score_model(model, X_t=label_X_train, X_v=label_X_test, y_t=y_train, y_v=y_test):\n",
        "    model.fit(X_t, y_t)\n",
        "    preds = model.predict(X_v)\n",
        "    return mean_absolute_error(y_v, preds)\n",
        "\n",
        "mae_scores=[]\n",
        "\n",
        "for i in range(0, len(models)):\n",
        "    mae = score_model(models[i])\n",
        "    print(\"Modelo %d MAE(Error medio absoluto): %f\" % (i+1, mae))\n",
        "    mae_scores.append(mae)"
      ],
      "execution_count": null,
      "outputs": [
        {
          "output_type": "stream",
          "text": [
            "Modelo 1 MAE(Error medio absoluto): 0.536000\n",
            "Modelo 2 MAE(Error medio absoluto): 0.546133\n",
            "Modelo 3 MAE(Error medio absoluto): 0.524333\n",
            "Modelo 4 MAE(Error medio absoluto): 0.579585\n",
            "Modelo 5 MAE(Error medio absoluto): 0.548294\n",
            "Modelo 6 MAE(Error medio absoluto): 0.538313\n",
            "Modelo 7 MAE(Error medio absoluto): 0.531671\n",
            "Modelo 8 MAE(Error medio absoluto): 0.531943\n",
            "Modelo 9 MAE(Error medio absoluto): 0.532261\n",
            "Modelo 10 MAE(Error medio absoluto): 0.533513\n"
          ],
          "name": "stdout"
        }
      ]
    },
    {
      "cell_type": "code",
      "metadata": {
        "id": "P2HSYJjoy3S8",
        "colab": {
          "base_uri": "https://localhost:8080/"
        },
        "outputId": "efd87eeb-4692-4a16-f83c-b8659e8d5d6a"
      },
      "source": [
        "best_score=min(mae_scores)\n",
        "best_score"
      ],
      "execution_count": null,
      "outputs": [
        {
          "output_type": "execute_result",
          "data": {
            "text/plain": [
              "0.5243333333333343"
            ]
          },
          "metadata": {
            "tags": []
          },
          "execution_count": 56
        }
      ]
    }
  ]
}