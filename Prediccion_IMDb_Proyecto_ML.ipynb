{
  "nbformat": 4,
  "nbformat_minor": 0,
  "metadata": {
    "colab": {
      "name": "Predicción IMDb - Proyecto ML.ipynb",
      "provenance": []
    },
    "kernelspec": {
      "name": "python3",
      "display_name": "Python 3"
    },
    "language_info": {
      "name": "python"
    }
  },
  "cells": [
    {
      "cell_type": "markdown",
      "metadata": {
        "id": "utlTie6kJ_AH"
      },
      "source": [
        "###Importación de Librerías"
      ]
    },
    {
      "cell_type": "code",
      "metadata": {
        "id": "IYz-PfYuKClL"
      },
      "source": [
        "import numpy as np \n",
        "import pandas as pd \n",
        "\n",
        "import matplotlib.pyplot as plt\n",
        "import missingno as msno \n",
        "import seaborn as sns\n",
        "plt.style.use('seaborn-whitegrid')\n",
        "\n",
        "from sklearn.impute import SimpleImputer\n",
        "\n",
        "from sklearn.model_selection import train_test_split\n",
        "from sklearn.ensemble import RandomForestRegressor\n",
        "from sklearn.metrics import mean_absolute_error\n",
        "from sklearn.preprocessing import LabelEncoder"
      ],
      "execution_count": 4,
      "outputs": []
    },
    {
      "cell_type": "markdown",
      "metadata": {
        "id": "i2bxo4ghKRC1"
      },
      "source": [
        "###Carga del dataset"
      ]
    },
    {
      "cell_type": "code",
      "metadata": {
        "colab": {
          "base_uri": "https://localhost:8080/",
          "height": 459
        },
        "id": "Apsq6gzgJ34_",
        "outputId": "fde909eb-5f06-4f84-dff6-21706686a59c"
      },
      "source": [
        "df_movies = pd.read_csv(\"MoviesOnStreamingPlatforms_updated.csv\", index_col=\"ID\")\n",
        "df_movies.head()"
      ],
      "execution_count": 5,
      "outputs": [
        {
          "output_type": "execute_result",
          "data": {
            "text/html": [
              "<div>\n",
              "<style scoped>\n",
              "    .dataframe tbody tr th:only-of-type {\n",
              "        vertical-align: middle;\n",
              "    }\n",
              "\n",
              "    .dataframe tbody tr th {\n",
              "        vertical-align: top;\n",
              "    }\n",
              "\n",
              "    .dataframe thead th {\n",
              "        text-align: right;\n",
              "    }\n",
              "</style>\n",
              "<table border=\"1\" class=\"dataframe\">\n",
              "  <thead>\n",
              "    <tr style=\"text-align: right;\">\n",
              "      <th></th>\n",
              "      <th>Unnamed: 0</th>\n",
              "      <th>Title</th>\n",
              "      <th>Year</th>\n",
              "      <th>Age</th>\n",
              "      <th>IMDb</th>\n",
              "      <th>Rotten Tomatoes</th>\n",
              "      <th>Netflix</th>\n",
              "      <th>Hulu</th>\n",
              "      <th>Prime Video</th>\n",
              "      <th>Disney+</th>\n",
              "      <th>Type</th>\n",
              "      <th>Directors</th>\n",
              "      <th>Genres</th>\n",
              "      <th>Country</th>\n",
              "      <th>Language</th>\n",
              "      <th>Runtime</th>\n",
              "    </tr>\n",
              "    <tr>\n",
              "      <th>ID</th>\n",
              "      <th></th>\n",
              "      <th></th>\n",
              "      <th></th>\n",
              "      <th></th>\n",
              "      <th></th>\n",
              "      <th></th>\n",
              "      <th></th>\n",
              "      <th></th>\n",
              "      <th></th>\n",
              "      <th></th>\n",
              "      <th></th>\n",
              "      <th></th>\n",
              "      <th></th>\n",
              "      <th></th>\n",
              "      <th></th>\n",
              "      <th></th>\n",
              "    </tr>\n",
              "  </thead>\n",
              "  <tbody>\n",
              "    <tr>\n",
              "      <th>1</th>\n",
              "      <td>0</td>\n",
              "      <td>Inception</td>\n",
              "      <td>2010</td>\n",
              "      <td>13+</td>\n",
              "      <td>8.8</td>\n",
              "      <td>87%</td>\n",
              "      <td>1</td>\n",
              "      <td>0</td>\n",
              "      <td>0</td>\n",
              "      <td>0</td>\n",
              "      <td>0</td>\n",
              "      <td>Christopher Nolan</td>\n",
              "      <td>Action,Adventure,Sci-Fi,Thriller</td>\n",
              "      <td>United States,United Kingdom</td>\n",
              "      <td>English,Japanese,French</td>\n",
              "      <td>148.0</td>\n",
              "    </tr>\n",
              "    <tr>\n",
              "      <th>2</th>\n",
              "      <td>1</td>\n",
              "      <td>The Matrix</td>\n",
              "      <td>1999</td>\n",
              "      <td>18+</td>\n",
              "      <td>8.7</td>\n",
              "      <td>87%</td>\n",
              "      <td>1</td>\n",
              "      <td>0</td>\n",
              "      <td>0</td>\n",
              "      <td>0</td>\n",
              "      <td>0</td>\n",
              "      <td>Lana Wachowski,Lilly Wachowski</td>\n",
              "      <td>Action,Sci-Fi</td>\n",
              "      <td>United States</td>\n",
              "      <td>English</td>\n",
              "      <td>136.0</td>\n",
              "    </tr>\n",
              "    <tr>\n",
              "      <th>3</th>\n",
              "      <td>2</td>\n",
              "      <td>Avengers: Infinity War</td>\n",
              "      <td>2018</td>\n",
              "      <td>13+</td>\n",
              "      <td>8.5</td>\n",
              "      <td>84%</td>\n",
              "      <td>1</td>\n",
              "      <td>0</td>\n",
              "      <td>0</td>\n",
              "      <td>0</td>\n",
              "      <td>0</td>\n",
              "      <td>Anthony Russo,Joe Russo</td>\n",
              "      <td>Action,Adventure,Sci-Fi</td>\n",
              "      <td>United States</td>\n",
              "      <td>English</td>\n",
              "      <td>149.0</td>\n",
              "    </tr>\n",
              "    <tr>\n",
              "      <th>4</th>\n",
              "      <td>3</td>\n",
              "      <td>Back to the Future</td>\n",
              "      <td>1985</td>\n",
              "      <td>7+</td>\n",
              "      <td>8.5</td>\n",
              "      <td>96%</td>\n",
              "      <td>1</td>\n",
              "      <td>0</td>\n",
              "      <td>0</td>\n",
              "      <td>0</td>\n",
              "      <td>0</td>\n",
              "      <td>Robert Zemeckis</td>\n",
              "      <td>Adventure,Comedy,Sci-Fi</td>\n",
              "      <td>United States</td>\n",
              "      <td>English</td>\n",
              "      <td>116.0</td>\n",
              "    </tr>\n",
              "    <tr>\n",
              "      <th>5</th>\n",
              "      <td>4</td>\n",
              "      <td>The Good, the Bad and the Ugly</td>\n",
              "      <td>1966</td>\n",
              "      <td>18+</td>\n",
              "      <td>8.8</td>\n",
              "      <td>97%</td>\n",
              "      <td>1</td>\n",
              "      <td>0</td>\n",
              "      <td>1</td>\n",
              "      <td>0</td>\n",
              "      <td>0</td>\n",
              "      <td>Sergio Leone</td>\n",
              "      <td>Western</td>\n",
              "      <td>Italy,Spain,West Germany</td>\n",
              "      <td>Italian</td>\n",
              "      <td>161.0</td>\n",
              "    </tr>\n",
              "  </tbody>\n",
              "</table>\n",
              "</div>"
            ],
            "text/plain": [
              "    Unnamed: 0  ... Runtime\n",
              "ID              ...        \n",
              "1            0  ...   148.0\n",
              "2            1  ...   136.0\n",
              "3            2  ...   149.0\n",
              "4            3  ...   116.0\n",
              "5            4  ...   161.0\n",
              "\n",
              "[5 rows x 16 columns]"
            ]
          },
          "metadata": {
            "tags": []
          },
          "execution_count": 5
        }
      ]
    },
    {
      "cell_type": "code",
      "metadata": {
        "colab": {
          "base_uri": "https://localhost:8080/",
          "height": 459
        },
        "id": "B0kJ4x2yK4qZ",
        "outputId": "5a5b62de-fb86-4b42-91bb-272723e34176"
      },
      "source": [
        "#Eliminando los \"Unnamed\" \n",
        "df_movies=df_movies.drop(\"Unnamed: 0\",axis=1)\n",
        "df_movies.head()"
      ],
      "execution_count": 6,
      "outputs": [
        {
          "output_type": "execute_result",
          "data": {
            "text/html": [
              "<div>\n",
              "<style scoped>\n",
              "    .dataframe tbody tr th:only-of-type {\n",
              "        vertical-align: middle;\n",
              "    }\n",
              "\n",
              "    .dataframe tbody tr th {\n",
              "        vertical-align: top;\n",
              "    }\n",
              "\n",
              "    .dataframe thead th {\n",
              "        text-align: right;\n",
              "    }\n",
              "</style>\n",
              "<table border=\"1\" class=\"dataframe\">\n",
              "  <thead>\n",
              "    <tr style=\"text-align: right;\">\n",
              "      <th></th>\n",
              "      <th>Title</th>\n",
              "      <th>Year</th>\n",
              "      <th>Age</th>\n",
              "      <th>IMDb</th>\n",
              "      <th>Rotten Tomatoes</th>\n",
              "      <th>Netflix</th>\n",
              "      <th>Hulu</th>\n",
              "      <th>Prime Video</th>\n",
              "      <th>Disney+</th>\n",
              "      <th>Type</th>\n",
              "      <th>Directors</th>\n",
              "      <th>Genres</th>\n",
              "      <th>Country</th>\n",
              "      <th>Language</th>\n",
              "      <th>Runtime</th>\n",
              "    </tr>\n",
              "    <tr>\n",
              "      <th>ID</th>\n",
              "      <th></th>\n",
              "      <th></th>\n",
              "      <th></th>\n",
              "      <th></th>\n",
              "      <th></th>\n",
              "      <th></th>\n",
              "      <th></th>\n",
              "      <th></th>\n",
              "      <th></th>\n",
              "      <th></th>\n",
              "      <th></th>\n",
              "      <th></th>\n",
              "      <th></th>\n",
              "      <th></th>\n",
              "      <th></th>\n",
              "    </tr>\n",
              "  </thead>\n",
              "  <tbody>\n",
              "    <tr>\n",
              "      <th>1</th>\n",
              "      <td>Inception</td>\n",
              "      <td>2010</td>\n",
              "      <td>13+</td>\n",
              "      <td>8.8</td>\n",
              "      <td>87%</td>\n",
              "      <td>1</td>\n",
              "      <td>0</td>\n",
              "      <td>0</td>\n",
              "      <td>0</td>\n",
              "      <td>0</td>\n",
              "      <td>Christopher Nolan</td>\n",
              "      <td>Action,Adventure,Sci-Fi,Thriller</td>\n",
              "      <td>United States,United Kingdom</td>\n",
              "      <td>English,Japanese,French</td>\n",
              "      <td>148.0</td>\n",
              "    </tr>\n",
              "    <tr>\n",
              "      <th>2</th>\n",
              "      <td>The Matrix</td>\n",
              "      <td>1999</td>\n",
              "      <td>18+</td>\n",
              "      <td>8.7</td>\n",
              "      <td>87%</td>\n",
              "      <td>1</td>\n",
              "      <td>0</td>\n",
              "      <td>0</td>\n",
              "      <td>0</td>\n",
              "      <td>0</td>\n",
              "      <td>Lana Wachowski,Lilly Wachowski</td>\n",
              "      <td>Action,Sci-Fi</td>\n",
              "      <td>United States</td>\n",
              "      <td>English</td>\n",
              "      <td>136.0</td>\n",
              "    </tr>\n",
              "    <tr>\n",
              "      <th>3</th>\n",
              "      <td>Avengers: Infinity War</td>\n",
              "      <td>2018</td>\n",
              "      <td>13+</td>\n",
              "      <td>8.5</td>\n",
              "      <td>84%</td>\n",
              "      <td>1</td>\n",
              "      <td>0</td>\n",
              "      <td>0</td>\n",
              "      <td>0</td>\n",
              "      <td>0</td>\n",
              "      <td>Anthony Russo,Joe Russo</td>\n",
              "      <td>Action,Adventure,Sci-Fi</td>\n",
              "      <td>United States</td>\n",
              "      <td>English</td>\n",
              "      <td>149.0</td>\n",
              "    </tr>\n",
              "    <tr>\n",
              "      <th>4</th>\n",
              "      <td>Back to the Future</td>\n",
              "      <td>1985</td>\n",
              "      <td>7+</td>\n",
              "      <td>8.5</td>\n",
              "      <td>96%</td>\n",
              "      <td>1</td>\n",
              "      <td>0</td>\n",
              "      <td>0</td>\n",
              "      <td>0</td>\n",
              "      <td>0</td>\n",
              "      <td>Robert Zemeckis</td>\n",
              "      <td>Adventure,Comedy,Sci-Fi</td>\n",
              "      <td>United States</td>\n",
              "      <td>English</td>\n",
              "      <td>116.0</td>\n",
              "    </tr>\n",
              "    <tr>\n",
              "      <th>5</th>\n",
              "      <td>The Good, the Bad and the Ugly</td>\n",
              "      <td>1966</td>\n",
              "      <td>18+</td>\n",
              "      <td>8.8</td>\n",
              "      <td>97%</td>\n",
              "      <td>1</td>\n",
              "      <td>0</td>\n",
              "      <td>1</td>\n",
              "      <td>0</td>\n",
              "      <td>0</td>\n",
              "      <td>Sergio Leone</td>\n",
              "      <td>Western</td>\n",
              "      <td>Italy,Spain,West Germany</td>\n",
              "      <td>Italian</td>\n",
              "      <td>161.0</td>\n",
              "    </tr>\n",
              "  </tbody>\n",
              "</table>\n",
              "</div>"
            ],
            "text/plain": [
              "                             Title  Year  ...                 Language  Runtime\n",
              "ID                                        ...                                  \n",
              "1                        Inception  2010  ...  English,Japanese,French    148.0\n",
              "2                       The Matrix  1999  ...                  English    136.0\n",
              "3           Avengers: Infinity War  2018  ...                  English    149.0\n",
              "4               Back to the Future  1985  ...                  English    116.0\n",
              "5   The Good, the Bad and the Ugly  1966  ...                  Italian    161.0\n",
              "\n",
              "[5 rows x 15 columns]"
            ]
          },
          "metadata": {
            "tags": []
          },
          "execution_count": 6
        }
      ]
    },
    {
      "cell_type": "code",
      "metadata": {
        "colab": {
          "base_uri": "https://localhost:8080/"
        },
        "id": "oLunukUYLG3d",
        "outputId": "41bf07a1-ec98-4bbc-8982-ad56e990547c"
      },
      "source": [
        "#Descripción general de los datos\n",
        "df_movies.info()"
      ],
      "execution_count": 7,
      "outputs": [
        {
          "output_type": "stream",
          "text": [
            "<class 'pandas.core.frame.DataFrame'>\n",
            "Int64Index: 16744 entries, 1 to 16744\n",
            "Data columns (total 15 columns):\n",
            " #   Column           Non-Null Count  Dtype  \n",
            "---  ------           --------------  -----  \n",
            " 0   Title            16744 non-null  object \n",
            " 1   Year             16744 non-null  int64  \n",
            " 2   Age              7354 non-null   object \n",
            " 3   IMDb             16173 non-null  float64\n",
            " 4   Rotten Tomatoes  5158 non-null   object \n",
            " 5   Netflix          16744 non-null  int64  \n",
            " 6   Hulu             16744 non-null  int64  \n",
            " 7   Prime Video      16744 non-null  int64  \n",
            " 8   Disney+          16744 non-null  int64  \n",
            " 9   Type             16744 non-null  int64  \n",
            " 10  Directors        16018 non-null  object \n",
            " 11  Genres           16469 non-null  object \n",
            " 12  Country          16309 non-null  object \n",
            " 13  Language         16145 non-null  object \n",
            " 14  Runtime          16152 non-null  float64\n",
            "dtypes: float64(2), int64(6), object(7)\n",
            "memory usage: 2.0+ MB\n"
          ],
          "name": "stdout"
        }
      ]
    },
    {
      "cell_type": "code",
      "metadata": {
        "colab": {
          "base_uri": "https://localhost:8080/"
        },
        "id": "lHJie7otLSmC",
        "outputId": "06e88ff2-faae-4d40-860d-ad01729528c4"
      },
      "source": [
        "#Comprobando el número total de valores nulos en cada columna \n",
        "df_movies.isna().sum()"
      ],
      "execution_count": 8,
      "outputs": [
        {
          "output_type": "execute_result",
          "data": {
            "text/plain": [
              "Title                  0\n",
              "Year                   0\n",
              "Age                 9390\n",
              "IMDb                 571\n",
              "Rotten Tomatoes    11586\n",
              "Netflix                0\n",
              "Hulu                   0\n",
              "Prime Video            0\n",
              "Disney+                0\n",
              "Type                   0\n",
              "Directors            726\n",
              "Genres               275\n",
              "Country              435\n",
              "Language             599\n",
              "Runtime              592\n",
              "dtype: int64"
            ]
          },
          "metadata": {
            "tags": []
          },
          "execution_count": 8
        }
      ]
    },
    {
      "cell_type": "code",
      "metadata": {
        "id": "cM5Nn42yLZX7"
      },
      "source": [
        "#Nos quedamos con los no nulos\n",
        "df_movies = df_movies[df_movies['IMDb'].notna()]"
      ],
      "execution_count": 9,
      "outputs": []
    },
    {
      "cell_type": "code",
      "metadata": {
        "colab": {
          "base_uri": "https://localhost:8080/",
          "height": 410
        },
        "id": "Dy3n1iu4Li7H",
        "outputId": "8aff9bd1-927f-42ca-cbd6-5436ca4da5b0"
      },
      "source": [
        "#Visualizando la cantidad de datos que faltan\n",
        "msno.bar(df_movies ,color='red', figsize=(10, 4))"
      ],
      "execution_count": 10,
      "outputs": [
        {
          "output_type": "execute_result",
          "data": {
            "text/plain": [
              "<matplotlib.axes._subplots.AxesSubplot at 0x7f09d503c090>"
            ]
          },
          "metadata": {
            "tags": []
          },
          "execution_count": 10
        },
        {
          "output_type": "display_data",
          "data": {
            "image/png": "[encoded data removed]",
            "text/plain": [
              "<Figure size 720x288 with 3 Axes>"
            ]
          },
          "metadata": {
            "tags": []
          }
        }
      ]
    },
    {
      "cell_type": "code",
      "metadata": {
        "colab": {
          "base_uri": "https://localhost:8080/"
        },
        "id": "h6fM9r5ULsqD",
        "outputId": "75e91012-3bdf-4c14-89b6-9f9bff84c6a9"
      },
      "source": [
        "#Eliminando \"Rotten Tomatoes\" por sus datos excesivamente bajos \n",
        "df_movies = df_movies.drop(['Rotten Tomatoes'], axis=1)\n",
        "\n",
        "#\"Title\" y \"Type\" se eliminan por ser irrelevantes para nuestra predicción.\n",
        "df_movies = df_movies.drop(['Title','Type'], axis=1)\n",
        "df_movies.isna().sum()"
      ],
      "execution_count": 11,
      "outputs": [
        {
          "output_type": "execute_result",
          "data": {
            "text/plain": [
              "Year              0\n",
              "Age            8857\n",
              "IMDb              0\n",
              "Netflix           0\n",
              "Hulu              0\n",
              "Prime Video       0\n",
              "Disney+           0\n",
              "Directors       483\n",
              "Genres          101\n",
              "Country         218\n",
              "Language        372\n",
              "Runtime         354\n",
              "dtype: int64"
            ]
          },
          "metadata": {
            "tags": []
          },
          "execution_count": 11
        }
      ]
    },
    {
      "cell_type": "code",
      "metadata": {
        "colab": {
          "base_uri": "https://localhost:8080/"
        },
        "id": "2FnJo_eEL8rn",
        "outputId": "5c7bf29b-b242-49a7-e9f8-1d15eeadeecb"
      },
      "source": [
        "#Comprobando valores únicos en \"Age\" \n",
        "df_movies['Age'].unique()"
      ],
      "execution_count": 12,
      "outputs": [
        {
          "output_type": "execute_result",
          "data": {
            "text/plain": [
              "array(['13+', '18+', '7+', nan, 'all', '16+'], dtype=object)"
            ]
          },
          "metadata": {
            "tags": []
          },
          "execution_count": 12
        }
      ]
    },
    {
      "cell_type": "code",
      "metadata": {
        "colab": {
          "base_uri": "https://localhost:8080/"
        },
        "id": "UMwX8K7LMElZ",
        "outputId": "6f3d1179-9b45-42ea-b38a-ddc1dbb30b19"
      },
      "source": [
        "#Imputando valores nulos en \"Age\" con \"all\"\n",
        "imputer = SimpleImputer(missing_values=np.nan, strategy='constant', fill_value=\"all\")\n",
        "df_movies[\"Age\"] = imputer.fit_transform(df_movies[[\"Age\"]]).ravel()\n",
        "\n",
        "df_movies.isna().sum()"
      ],
      "execution_count": 13,
      "outputs": [
        {
          "output_type": "execute_result",
          "data": {
            "text/plain": [
              "Year             0\n",
              "Age              0\n",
              "IMDb             0\n",
              "Netflix          0\n",
              "Hulu             0\n",
              "Prime Video      0\n",
              "Disney+          0\n",
              "Directors      483\n",
              "Genres         101\n",
              "Country        218\n",
              "Language       372\n",
              "Runtime        354\n",
              "dtype: int64"
            ]
          },
          "metadata": {
            "tags": []
          },
          "execution_count": 13
        }
      ]
    },
    {
      "cell_type": "code",
      "metadata": {
        "colab": {
          "base_uri": "https://localhost:8080/"
        },
        "id": "wlZ04rFsMRrc",
        "outputId": "926c65f6-57f5-40d2-c01c-fa5f976e575e"
      },
      "source": [
        "#Eliminando todas las filas(entradas) en las que hay celdas sin datos\n",
        "df_movies.dropna(axis=0, how='any',inplace=True)\n",
        "\n",
        "df_movies.isna().sum()"
      ],
      "execution_count": 14,
      "outputs": [
        {
          "output_type": "execute_result",
          "data": {
            "text/plain": [
              "Year           0\n",
              "Age            0\n",
              "IMDb           0\n",
              "Netflix        0\n",
              "Hulu           0\n",
              "Prime Video    0\n",
              "Disney+        0\n",
              "Directors      0\n",
              "Genres         0\n",
              "Country        0\n",
              "Language       0\n",
              "Runtime        0\n",
              "dtype: int64"
            ]
          },
          "metadata": {
            "tags": []
          },
          "execution_count": 14
        }
      ]
    },
    {
      "cell_type": "code",
      "metadata": {
        "colab": {
          "base_uri": "https://localhost:8080/",
          "height": 386
        },
        "id": "ikswT8buMbiq",
        "outputId": "49de635d-9a6b-4eec-ef55-7d60cc5c1c03"
      },
      "source": [
        "#Visualizar si faltan más datos o no\n",
        "msno.bar(df_movies ,color='red', figsize=(10, 4))"
      ],
      "execution_count": 15,
      "outputs": [
        {
          "output_type": "execute_result",
          "data": {
            "text/plain": [
              "<matplotlib.axes._subplots.AxesSubplot at 0x7f09d4791610>"
            ]
          },
          "metadata": {
            "tags": []
          },
          "execution_count": 15
        },
        {
          "output_type": "display_data",
          "data": {
            "image/png": "[encoded data removed]",
            "text/plain": [
              "<Figure size 720x288 with 3 Axes>"
            ]
          },
          "metadata": {
            "tags": []
          }
        }
      ]
    },
    {
      "cell_type": "code",
      "metadata": {
        "colab": {
          "base_uri": "https://localhost:8080/"
        },
        "id": "zLYGg26BMiQD",
        "outputId": "f8ee82fd-e724-4c78-8209-ea7f3fec2564"
      },
      "source": [
        "df_movies.info()"
      ],
      "execution_count": 16,
      "outputs": [
        {
          "output_type": "stream",
          "text": [
            "<class 'pandas.core.frame.DataFrame'>\n",
            "Int64Index: 15233 entries, 1 to 16741\n",
            "Data columns (total 12 columns):\n",
            " #   Column       Non-Null Count  Dtype  \n",
            "---  ------       --------------  -----  \n",
            " 0   Year         15233 non-null  int64  \n",
            " 1   Age          15233 non-null  object \n",
            " 2   IMDb         15233 non-null  float64\n",
            " 3   Netflix      15233 non-null  int64  \n",
            " 4   Hulu         15233 non-null  int64  \n",
            " 5   Prime Video  15233 non-null  int64  \n",
            " 6   Disney+      15233 non-null  int64  \n",
            " 7   Directors    15233 non-null  object \n",
            " 8   Genres       15233 non-null  object \n",
            " 9   Country      15233 non-null  object \n",
            " 10  Language     15233 non-null  object \n",
            " 11  Runtime      15233 non-null  float64\n",
            "dtypes: float64(2), int64(5), object(5)\n",
            "memory usage: 1.5+ MB\n"
          ],
          "name": "stdout"
        }
      ]
    },
    {
      "cell_type": "code",
      "metadata": {
        "id": "zExs-VDIMl30"
      },
      "source": [
        "#Elegimos el objetivo(IMDb) y las características\n",
        "y = df_movies.IMDb\n",
        "\n",
        "X = df_movies.drop(['IMDb'], axis=1)\n",
        "\n",
        "#Dividiendo los datos para el entrenamiento y la prueba\n",
        "X_train_full, X_test_full, y_train, y_test  = train_test_split(X, y,random_state = 0)\n",
        "\n",
        "#Lista de columnas categóricas que se utilizarán como características\n",
        "cat_cols=[\"Age\",\"Directors\",\"Genres\",\"Country\",\"Language\"]\n",
        "\n",
        "#Lista de columnas numéricas que se utilizarán como características\n",
        "numerical_cols = ['Year','Runtime']\n",
        "\n",
        "#Mantener sólo las columnas seleccionadas\n",
        "my_cols = numerical_cols + cat_cols \n",
        "X_train = X_train_full[my_cols].copy()\n",
        "X_test = X_test_full[my_cols].copy()"
      ],
      "execution_count": 17,
      "outputs": []
    },
    {
      "cell_type": "markdown",
      "metadata": {
        "id": "rynWAX7fD89s"
      },
      "source": [
        "###Datos de Entrenamiento y Testeo"
      ]
    },
    {
      "cell_type": "code",
      "metadata": {
        "colab": {
          "base_uri": "https://localhost:8080/",
          "height": 235
        },
        "id": "sXE2L1cYNAOP",
        "outputId": "00a02685-2809-4c1a-edec-ccba264a68be"
      },
      "source": [
        "#Visualización de datos de entrenamiento\n",
        "X_train.head()"
      ],
      "execution_count": 18,
      "outputs": [
        {
          "output_type": "execute_result",
          "data": {
            "text/html": [
              "<div>\n",
              "<style scoped>\n",
              "    .dataframe tbody tr th:only-of-type {\n",
              "        vertical-align: middle;\n",
              "    }\n",
              "\n",
              "    .dataframe tbody tr th {\n",
              "        vertical-align: top;\n",
              "    }\n",
              "\n",
              "    .dataframe thead th {\n",
              "        text-align: right;\n",
              "    }\n",
              "</style>\n",
              "<table border=\"1\" class=\"dataframe\">\n",
              "  <thead>\n",
              "    <tr style=\"text-align: right;\">\n",
              "      <th></th>\n",
              "      <th>Year</th>\n",
              "      <th>Runtime</th>\n",
              "      <th>Age</th>\n",
              "      <th>Directors</th>\n",
              "      <th>Genres</th>\n",
              "      <th>Country</th>\n",
              "      <th>Language</th>\n",
              "    </tr>\n",
              "    <tr>\n",
              "      <th>ID</th>\n",
              "      <th></th>\n",
              "      <th></th>\n",
              "      <th></th>\n",
              "      <th></th>\n",
              "      <th></th>\n",
              "      <th></th>\n",
              "      <th></th>\n",
              "    </tr>\n",
              "  </thead>\n",
              "  <tbody>\n",
              "    <tr>\n",
              "      <th>13576</th>\n",
              "      <td>1972</td>\n",
              "      <td>88.0</td>\n",
              "      <td>18+</td>\n",
              "      <td>Vernon Zimmerman</td>\n",
              "      <td>Action,Comedy,Drama,Sport</td>\n",
              "      <td>United States</td>\n",
              "      <td>English</td>\n",
              "    </tr>\n",
              "    <tr>\n",
              "      <th>9829</th>\n",
              "      <td>2011</td>\n",
              "      <td>93.0</td>\n",
              "      <td>13+</td>\n",
              "      <td>Nayan Padrai</td>\n",
              "      <td>Comedy,Romance</td>\n",
              "      <td>United States</td>\n",
              "      <td>English</td>\n",
              "    </tr>\n",
              "    <tr>\n",
              "      <th>1256</th>\n",
              "      <td>2020</td>\n",
              "      <td>104.0</td>\n",
              "      <td>all</td>\n",
              "      <td>William Wyler</td>\n",
              "      <td>Drama,Romance</td>\n",
              "      <td>United States</td>\n",
              "      <td>English,French</td>\n",
              "    </tr>\n",
              "    <tr>\n",
              "      <th>9800</th>\n",
              "      <td>2017</td>\n",
              "      <td>149.0</td>\n",
              "      <td>all</td>\n",
              "      <td>Boyapati Srinu</td>\n",
              "      <td>Action,Romance</td>\n",
              "      <td>India</td>\n",
              "      <td>Telugu</td>\n",
              "    </tr>\n",
              "    <tr>\n",
              "      <th>11212</th>\n",
              "      <td>1941</td>\n",
              "      <td>66.0</td>\n",
              "      <td>all</td>\n",
              "      <td>Howard Bretherton</td>\n",
              "      <td>Action,Adventure,Western</td>\n",
              "      <td>United States</td>\n",
              "      <td>English</td>\n",
              "    </tr>\n",
              "  </tbody>\n",
              "</table>\n",
              "</div>"
            ],
            "text/plain": [
              "       Year  Runtime  ...        Country        Language\n",
              "ID                    ...                               \n",
              "13576  1972     88.0  ...  United States         English\n",
              "9829   2011     93.0  ...  United States         English\n",
              "1256   2020    104.0  ...  United States  English,French\n",
              "9800   2017    149.0  ...          India          Telugu\n",
              "11212  1941     66.0  ...  United States         English\n",
              "\n",
              "[5 rows x 7 columns]"
            ]
          },
          "metadata": {
            "tags": []
          },
          "execution_count": 18
        }
      ]
    },
    {
      "cell_type": "code",
      "metadata": {
        "colab": {
          "base_uri": "https://localhost:8080/",
          "height": 235
        },
        "id": "ewm1zDHdNGhr",
        "outputId": "2bc6db4b-e95e-4c1b-caed-97a996dc88ab"
      },
      "source": [
        "#Visualización de datos de prueba\n",
        "X_test.head()"
      ],
      "execution_count": 19,
      "outputs": [
        {
          "output_type": "execute_result",
          "data": {
            "text/html": [
              "<div>\n",
              "<style scoped>\n",
              "    .dataframe tbody tr th:only-of-type {\n",
              "        vertical-align: middle;\n",
              "    }\n",
              "\n",
              "    .dataframe tbody tr th {\n",
              "        vertical-align: top;\n",
              "    }\n",
              "\n",
              "    .dataframe thead th {\n",
              "        text-align: right;\n",
              "    }\n",
              "</style>\n",
              "<table border=\"1\" class=\"dataframe\">\n",
              "  <thead>\n",
              "    <tr style=\"text-align: right;\">\n",
              "      <th></th>\n",
              "      <th>Year</th>\n",
              "      <th>Runtime</th>\n",
              "      <th>Age</th>\n",
              "      <th>Directors</th>\n",
              "      <th>Genres</th>\n",
              "      <th>Country</th>\n",
              "      <th>Language</th>\n",
              "    </tr>\n",
              "    <tr>\n",
              "      <th>ID</th>\n",
              "      <th></th>\n",
              "      <th></th>\n",
              "      <th></th>\n",
              "      <th></th>\n",
              "      <th></th>\n",
              "      <th></th>\n",
              "      <th></th>\n",
              "    </tr>\n",
              "  </thead>\n",
              "  <tbody>\n",
              "    <tr>\n",
              "      <th>8874</th>\n",
              "      <td>2016</td>\n",
              "      <td>90.0</td>\n",
              "      <td>all</td>\n",
              "      <td>Ross Kohn</td>\n",
              "      <td>Thriller</td>\n",
              "      <td>United States</td>\n",
              "      <td>English</td>\n",
              "    </tr>\n",
              "    <tr>\n",
              "      <th>12421</th>\n",
              "      <td>2016</td>\n",
              "      <td>87.0</td>\n",
              "      <td>all</td>\n",
              "      <td>Melissa Finell</td>\n",
              "      <td>Comedy</td>\n",
              "      <td>United States</td>\n",
              "      <td>English</td>\n",
              "    </tr>\n",
              "    <tr>\n",
              "      <th>8191</th>\n",
              "      <td>2018</td>\n",
              "      <td>79.0</td>\n",
              "      <td>all</td>\n",
              "      <td>Svend Ploug Johansen</td>\n",
              "      <td>Sci-Fi</td>\n",
              "      <td>United States</td>\n",
              "      <td>English,Danish</td>\n",
              "    </tr>\n",
              "    <tr>\n",
              "      <th>12796</th>\n",
              "      <td>2017</td>\n",
              "      <td>120.0</td>\n",
              "      <td>18+</td>\n",
              "      <td>Christopher Compton</td>\n",
              "      <td>Action,Adventure,Drama</td>\n",
              "      <td>United States</td>\n",
              "      <td>English</td>\n",
              "    </tr>\n",
              "    <tr>\n",
              "      <th>4721</th>\n",
              "      <td>2018</td>\n",
              "      <td>136.0</td>\n",
              "      <td>all</td>\n",
              "      <td>Zhangke Jia</td>\n",
              "      <td>Crime,Drama,Romance</td>\n",
              "      <td>China,France,Japan</td>\n",
              "      <td>Chinese,Mandarin</td>\n",
              "    </tr>\n",
              "  </tbody>\n",
              "</table>\n",
              "</div>"
            ],
            "text/plain": [
              "       Year  Runtime  ...             Country          Language\n",
              "ID                    ...                                      \n",
              "8874   2016     90.0  ...       United States           English\n",
              "12421  2016     87.0  ...       United States           English\n",
              "8191   2018     79.0  ...       United States    English,Danish\n",
              "12796  2017    120.0  ...       United States           English\n",
              "4721   2018    136.0  ...  China,France,Japan  Chinese,Mandarin\n",
              "\n",
              "[5 rows x 7 columns]"
            ]
          },
          "metadata": {
            "tags": []
          },
          "execution_count": 19
        }
      ]
    },
    {
      "cell_type": "code",
      "metadata": {
        "id": "LcPLPfgANTay"
      },
      "source": [
        "#Copiando los datos para evitar el cambio en el dataset original\n",
        "label_X_train = X_train.copy()\n",
        "label_X_test = X_test.copy()\n",
        "\n",
        "#Aplicar el codificador de etiquetas a cada columna con datos categóricos\n",
        "label_encoder = LabelEncoder()\n",
        "for col in cat_cols:\n",
        "    label_encoder.fit(pd.concat([label_X_train[col], label_X_test[col]], axis=0, sort=False))\n",
        "    label_X_train[col] = label_encoder.transform(label_X_train[col])\n",
        "    label_X_test[col] = label_encoder.transform(label_X_test[col])"
      ],
      "execution_count": 20,
      "outputs": []
    },
    {
      "cell_type": "markdown",
      "metadata": {
        "id": "2iw9ThegECFr"
      },
      "source": [
        "###Modelos"
      ]
    },
    {
      "cell_type": "code",
      "metadata": {
        "id": "sT3eAiFPNmE0"
      },
      "source": [
        "#Definir los modelos\n",
        "model_1 = RandomForestRegressor(n_estimators=50, random_state=1)\n",
        "model_2 = RandomForestRegressor(n_estimators=100, random_state=1)\n",
        "model_3 = RandomForestRegressor(n_estimators=100, criterion='mae', random_state=1)\n",
        "model_4 = RandomForestRegressor(n_estimators=200, min_samples_split=20, random_state=1)\n",
        "model_5 = RandomForestRegressor(n_estimators=100, max_depth=7, random_state=1)\n",
        "model_6 = RandomForestRegressor(n_estimators=50, max_depth=7, random_state=1)\n",
        "\n",
        "#Lista de modelos\n",
        "models = [model_1, model_2, model_3, model_4, model_5, model_6]"
      ],
      "execution_count": 21,
      "outputs": []
    },
    {
      "cell_type": "markdown",
      "metadata": {
        "id": "8rYibDgkEHSh"
      },
      "source": [
        "###Resultados"
      ]
    },
    {
      "cell_type": "code",
      "metadata": {
        "colab": {
          "base_uri": "https://localhost:8080/"
        },
        "id": "BCo9l03ANvUu",
        "outputId": "84520065-a7ce-4d8d-9e30-e0a6729ab30e"
      },
      "source": [
        "#Función para comparar diferentes modelos\n",
        "def score_model(model, X_t=label_X_train, X_v=label_X_test, y_t=y_train, y_v=y_test):\n",
        "    model.fit(X_t, y_t)\n",
        "    preds = model.predict(X_v)\n",
        "    return mean_absolute_error(y_v, preds)\n",
        "\n",
        "mae_scores=[]\n",
        "\n",
        "for i in range(0, len(models)):\n",
        "    mae = score_model(models[i])\n",
        "    print(\"Modelo %d MAE(Error medio absoluto): %f\" % (i+1, mae))\n",
        "    mae_scores.append(mae)"
      ],
      "execution_count": 22,
      "outputs": [
        {
          "output_type": "stream",
          "text": [
            "Modelo 1 MAE(Error medio absoluto): 0.834292\n",
            "Modelo 2 MAE(Error medio absoluto): 0.831473\n",
            "Modelo 3 MAE(Error medio absoluto): 0.827311\n",
            "Modelo 4 MAE(Error medio absoluto): 0.812408\n",
            "Modelo 5 MAE(Error medio absoluto): 0.823902\n",
            "Modelo 6 MAE(Error medio absoluto): 0.824177\n"
          ],
          "name": "stdout"
        }
      ]
    },
    {
      "cell_type": "code",
      "metadata": {
        "colab": {
          "base_uri": "https://localhost:8080/"
        },
        "id": "FMNd1jaLOsdl",
        "outputId": "cc13d290-62e8-4351-e733-c920e4a350a2"
      },
      "source": [
        "best_score=min(mae_scores)\n",
        "best_score"
      ],
      "execution_count": 23,
      "outputs": [
        {
          "output_type": "execute_result",
          "data": {
            "text/plain": [
              "0.8124076242731043"
            ]
          },
          "metadata": {
            "tags": []
          },
          "execution_count": 23
        }
      ]
    }
  ]
}