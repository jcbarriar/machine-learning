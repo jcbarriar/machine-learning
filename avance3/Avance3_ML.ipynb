{
  "nbformat": 4,
  "nbformat_minor": 0,
  "metadata": {
    "colab": {
      "name": "Avance3-ML.ipynb",
      "provenance": [],
      "collapsed_sections": []
    },
    "kernelspec": {
      "name": "python3",
      "display_name": "Python 3"
    },
    "language_info": {
      "name": "python"
    }
  },
  "cells": [
    {
      "cell_type": "markdown",
      "metadata": {
        "id": "E7gmVbjPuJ5j"
      },
      "source": [
        "###IMPORTACIÓN DE LIBRERÍAS"
      ]
    },
    {
      "cell_type": "code",
      "metadata": {
        "id": "v9jNRfVQBnYM"
      },
      "source": [
        "import numpy as np\n",
        "import pandas as pd\n",
        "import matplotlib.pyplot as plt\n",
        "import missingno as msno \n",
        "import seaborn as sns\n",
        "plt.style.use('seaborn-whitegrid')\n",
        "\n",
        "from sklearn.impute import SimpleImputer\n",
        "\n",
        "from sklearn.model_selection import train_test_split\n",
        "from sklearn.ensemble import RandomForestRegressor\n",
        "from sklearn.metrics import mean_absolute_error\n",
        "from sklearn.preprocessing import LabelEncoder"
      ],
      "execution_count": 1,
      "outputs": []
    },
    {
      "cell_type": "markdown",
      "metadata": {
        "id": "O_q_Lrw0uZq3"
      },
      "source": [
        "###CARGA DEL DATASET"
      ]
    },
    {
      "cell_type": "code",
      "metadata": {
        "colab": {
          "base_uri": "https://localhost:8080/",
          "height": 235
        },
        "id": "7dxtPfQ2B0rb",
        "outputId": "e0bfa40f-1eb8-4f12-b0a4-7172adf094c2"
      },
      "source": [
        "#dataset = pd.read_csv(\"dataset_peliculas_chilenas.csv\", index_col=\"ID\")\n",
        "dataset = pd.read_csv(\"dataset_peliculas_chilenas_v2.csv\", index_col=\"ID\")\n",
        "dataset.head()"
      ],
      "execution_count": 2,
      "outputs": [
        {
          "output_type": "execute_result",
          "data": {
            "text/html": [
              "<div>\n",
              "<style scoped>\n",
              "    .dataframe tbody tr th:only-of-type {\n",
              "        vertical-align: middle;\n",
              "    }\n",
              "\n",
              "    .dataframe tbody tr th {\n",
              "        vertical-align: top;\n",
              "    }\n",
              "\n",
              "    .dataframe thead th {\n",
              "        text-align: right;\n",
              "    }\n",
              "</style>\n",
              "<table border=\"1\" class=\"dataframe\">\n",
              "  <thead>\n",
              "    <tr style=\"text-align: right;\">\n",
              "      <th></th>\n",
              "      <th>Title</th>\n",
              "      <th>Year</th>\n",
              "      <th>Age</th>\n",
              "      <th>IMDb</th>\n",
              "      <th>CineChile</th>\n",
              "      <th>Directors</th>\n",
              "      <th>Genres</th>\n",
              "      <th>Language</th>\n",
              "      <th>Runtime</th>\n",
              "    </tr>\n",
              "    <tr>\n",
              "      <th>ID</th>\n",
              "      <th></th>\n",
              "      <th></th>\n",
              "      <th></th>\n",
              "      <th></th>\n",
              "      <th></th>\n",
              "      <th></th>\n",
              "      <th></th>\n",
              "      <th></th>\n",
              "      <th></th>\n",
              "    </tr>\n",
              "  </thead>\n",
              "  <tbody>\n",
              "    <tr>\n",
              "      <th>1</th>\n",
              "      <td>El Chacal de Nahueltoro</td>\n",
              "      <td>1969</td>\n",
              "      <td>NaN</td>\n",
              "      <td>7.7</td>\n",
              "      <td>457.0</td>\n",
              "      <td>Miguel Littin</td>\n",
              "      <td>Biography, Crime, Drama</td>\n",
              "      <td>Spanish</td>\n",
              "      <td>95</td>\n",
              "    </tr>\n",
              "    <tr>\n",
              "      <th>2</th>\n",
              "      <td>Tres Tristes Tigres</td>\n",
              "      <td>1968</td>\n",
              "      <td>NaN</td>\n",
              "      <td>7.2</td>\n",
              "      <td>369.0</td>\n",
              "      <td>Raúl Ruiz</td>\n",
              "      <td>Drama</td>\n",
              "      <td>Spanish</td>\n",
              "      <td>100</td>\n",
              "    </tr>\n",
              "    <tr>\n",
              "      <th>3</th>\n",
              "      <td>Valparaíso Mi Amor</td>\n",
              "      <td>1969</td>\n",
              "      <td>13+</td>\n",
              "      <td>7.3</td>\n",
              "      <td>225.0</td>\n",
              "      <td>Aldo Francia</td>\n",
              "      <td>Drama</td>\n",
              "      <td>Spanish</td>\n",
              "      <td>90</td>\n",
              "    </tr>\n",
              "    <tr>\n",
              "      <th>4</th>\n",
              "      <td>La Batalla de Chile la lucha de un pueblo sin ...</td>\n",
              "      <td>1975</td>\n",
              "      <td>NaN</td>\n",
              "      <td>8.3</td>\n",
              "      <td>207.0</td>\n",
              "      <td>Patricio Guzmán</td>\n",
              "      <td>Documentary</td>\n",
              "      <td>Spanish</td>\n",
              "      <td>97</td>\n",
              "    </tr>\n",
              "    <tr>\n",
              "      <th>5</th>\n",
              "      <td>Largo Viaje</td>\n",
              "      <td>1967</td>\n",
              "      <td>NaN</td>\n",
              "      <td>7.6</td>\n",
              "      <td>186.0</td>\n",
              "      <td>Patricio Kaulen</td>\n",
              "      <td>Drama</td>\n",
              "      <td>Spanish</td>\n",
              "      <td>83</td>\n",
              "    </tr>\n",
              "  </tbody>\n",
              "</table>\n",
              "</div>"
            ],
            "text/plain": [
              "                                                Title  Year  ... Language  Runtime\n",
              "ID                                                           ...                  \n",
              "1                             El Chacal de Nahueltoro  1969  ...  Spanish       95\n",
              "2                                 Tres Tristes Tigres  1968  ...  Spanish      100\n",
              "3                                  Valparaíso Mi Amor  1969  ...  Spanish       90\n",
              "4   La Batalla de Chile la lucha de un pueblo sin ...  1975  ...  Spanish       97\n",
              "5                                         Largo Viaje  1967  ...  Spanish       83\n",
              "\n",
              "[5 rows x 9 columns]"
            ]
          },
          "metadata": {
            "tags": []
          },
          "execution_count": 2
        }
      ]
    },
    {
      "cell_type": "code",
      "metadata": {
        "id": "3zD-BOktCj3R",
        "colab": {
          "base_uri": "https://localhost:8080/"
        },
        "outputId": "cd6d1a3a-2ab3-45dc-d162-ccb67db062d8"
      },
      "source": [
        "dataset.info()"
      ],
      "execution_count": 3,
      "outputs": [
        {
          "output_type": "stream",
          "text": [
            "<class 'pandas.core.frame.DataFrame'>\n",
            "Int64Index: 87 entries, 1 to 87\n",
            "Data columns (total 9 columns):\n",
            " #   Column     Non-Null Count  Dtype  \n",
            "---  ------     --------------  -----  \n",
            " 0   Title      87 non-null     object \n",
            " 1   Year       87 non-null     int64  \n",
            " 2   Age        45 non-null     object \n",
            " 3   IMDb       87 non-null     float64\n",
            " 4   CineChile  60 non-null     float64\n",
            " 5   Directors  87 non-null     object \n",
            " 6   Genres     84 non-null     object \n",
            " 7   Language   87 non-null     object \n",
            " 8   Runtime    87 non-null     int64  \n",
            "dtypes: float64(2), int64(2), object(5)\n",
            "memory usage: 6.8+ KB\n"
          ],
          "name": "stdout"
        }
      ]
    },
    {
      "cell_type": "code",
      "metadata": {
        "colab": {
          "base_uri": "https://localhost:8080/"
        },
        "id": "gswn9X-6upRu",
        "outputId": "1451d45c-a9ce-4602-9c92-4d675e764bb7"
      },
      "source": [
        "dataset.isna().sum()"
      ],
      "execution_count": 4,
      "outputs": [
        {
          "output_type": "execute_result",
          "data": {
            "text/plain": [
              "Title         0\n",
              "Year          0\n",
              "Age          42\n",
              "IMDb          0\n",
              "CineChile    27\n",
              "Directors     0\n",
              "Genres        3\n",
              "Language      0\n",
              "Runtime       0\n",
              "dtype: int64"
            ]
          },
          "metadata": {
            "tags": []
          },
          "execution_count": 4
        }
      ]
    },
    {
      "cell_type": "code",
      "metadata": {
        "id": "iNoOKGTLvE-C"
      },
      "source": [
        "#Quedando con los no nulos\n",
        "dataset = dataset[dataset['IMDb'].notna()]"
      ],
      "execution_count": 5,
      "outputs": []
    },
    {
      "cell_type": "code",
      "metadata": {
        "colab": {
          "base_uri": "https://localhost:8080/",
          "height": 357
        },
        "id": "C061XSx7vW3n",
        "outputId": "e3bdc471-6791-459f-bd89-510ad1b13564"
      },
      "source": [
        "#Visualizando la cantidad de datos que faltan\n",
        "msno.bar(dataset ,color='red', figsize=(10, 4))"
      ],
      "execution_count": 6,
      "outputs": [
        {
          "output_type": "execute_result",
          "data": {
            "text/plain": [
              "<matplotlib.axes._subplots.AxesSubplot at 0x7fd7c09a0c50>"
            ]
          },
          "metadata": {
            "tags": []
          },
          "execution_count": 6
        },
        {
          "output_type": "display_data",
          "data": {
            "image/png": "[encoded data removed]",
            "text/plain": [
              "<Figure size 720x288 with 3 Axes>"
            ]
          },
          "metadata": {
            "tags": [],
            "needs_background": "light"
          }
        }
      ]
    },
    {
      "cell_type": "code",
      "metadata": {
        "colab": {
          "base_uri": "https://localhost:8080/"
        },
        "id": "R0aZibuqvs_N",
        "outputId": "344094c8-aa1f-4543-9a77-a670d0c9c43f"
      },
      "source": [
        "#Eliminando columna \"CineChile\" \n",
        "dataset = dataset.drop(['CineChile'], axis=1)\n",
        "#dataset = dataset.drop(['IMDb'], axis=1)\n",
        "\n",
        "#\"Title\" se elimina por ser irrelevante para nuestra predicción.\n",
        "dataset = dataset.drop(['Title'], axis=1)\n",
        "#Eliminamos los cortos (<60min de duración)\n",
        "dataset = dataset.drop(dataset[dataset['Runtime']<60].index)\n",
        "dataset.isna().sum()"
      ],
      "execution_count": 7,
      "outputs": [
        {
          "output_type": "execute_result",
          "data": {
            "text/plain": [
              "Year          0\n",
              "Age          35\n",
              "IMDb          0\n",
              "Directors     0\n",
              "Genres        3\n",
              "Language      0\n",
              "Runtime       0\n",
              "dtype: int64"
            ]
          },
          "metadata": {
            "tags": []
          },
          "execution_count": 7
        }
      ]
    },
    {
      "cell_type": "code",
      "metadata": {
        "colab": {
          "base_uri": "https://localhost:8080/"
        },
        "id": "VHYzRE9-v_6D",
        "outputId": "b2b132a6-6e20-4617-d4fb-199c3d0dcc6e"
      },
      "source": [
        "#Comprobando valores únicos en \"Age\" \n",
        "dataset['Age'].unique()"
      ],
      "execution_count": 8,
      "outputs": [
        {
          "output_type": "execute_result",
          "data": {
            "text/plain": [
              "array([nan, '13+', 'all', '18+', '7+'], dtype=object)"
            ]
          },
          "metadata": {
            "tags": []
          },
          "execution_count": 8
        }
      ]
    },
    {
      "cell_type": "code",
      "metadata": {
        "colab": {
          "base_uri": "https://localhost:8080/"
        },
        "id": "4ovS6v4twKYE",
        "outputId": "0f94c5c4-ab28-4912-de02-a2d1674f73e3"
      },
      "source": [
        "#Imputando valores nulos en \"Age\" con \"all\"\n",
        "imputer = SimpleImputer(missing_values=np.nan, strategy='constant', fill_value=\"all\")\n",
        "dataset[\"Age\"] = imputer.fit_transform(dataset[[\"Age\"]]).ravel()\n",
        "\n",
        "dataset.isna().sum()"
      ],
      "execution_count": 9,
      "outputs": [
        {
          "output_type": "execute_result",
          "data": {
            "text/plain": [
              "Year         0\n",
              "Age          0\n",
              "IMDb         0\n",
              "Directors    0\n",
              "Genres       3\n",
              "Language     0\n",
              "Runtime      0\n",
              "dtype: int64"
            ]
          },
          "metadata": {
            "tags": []
          },
          "execution_count": 9
        }
      ]
    },
    {
      "cell_type": "code",
      "metadata": {
        "colab": {
          "base_uri": "https://localhost:8080/"
        },
        "id": "F2GLbcPKwW00",
        "outputId": "8c9e88cb-f938-4ff4-d488-bda2af0d2cca"
      },
      "source": [
        "#Eliminando todas las filas(entradas) en las que hay celdas sin datos\n",
        "dataset.dropna(axis=0, how='any',inplace=True)\n",
        "\n",
        "dataset.isna().sum()"
      ],
      "execution_count": 10,
      "outputs": [
        {
          "output_type": "execute_result",
          "data": {
            "text/plain": [
              "Year         0\n",
              "Age          0\n",
              "IMDb         0\n",
              "Directors    0\n",
              "Genres       0\n",
              "Language     0\n",
              "Runtime      0\n",
              "dtype: int64"
            ]
          },
          "metadata": {
            "tags": []
          },
          "execution_count": 10
        }
      ]
    },
    {
      "cell_type": "code",
      "metadata": {
        "colab": {
          "base_uri": "https://localhost:8080/",
          "height": 356
        },
        "id": "l2UIHkSrwcSR",
        "outputId": "3e0eeb6b-e25b-4881-da9d-fe58a1e2ecb0"
      },
      "source": [
        "#Visualizar si faltan más datos o no\n",
        "msno.bar(dataset ,color='red', figsize=(10, 4))"
      ],
      "execution_count": 11,
      "outputs": [
        {
          "output_type": "execute_result",
          "data": {
            "text/plain": [
              "<matplotlib.axes._subplots.AxesSubplot at 0x7fd7c0004c90>"
            ]
          },
          "metadata": {
            "tags": []
          },
          "execution_count": 11
        },
        {
          "output_type": "display_data",
          "data": {
            "image/png": "[encoded data removed]",
            "text/plain": [
              "<Figure size 720x288 with 3 Axes>"
            ]
          },
          "metadata": {
            "tags": [],
            "needs_background": "light"
          }
        }
      ]
    },
    {
      "cell_type": "code",
      "metadata": {
        "colab": {
          "base_uri": "https://localhost:8080/"
        },
        "id": "MD7jmPkFwhx_",
        "outputId": "76dcd82c-3713-4e97-ce64-cb5f9089d9c4"
      },
      "source": [
        "dataset.info()"
      ],
      "execution_count": 12,
      "outputs": [
        {
          "output_type": "stream",
          "text": [
            "<class 'pandas.core.frame.DataFrame'>\n",
            "Int64Index: 77 entries, 1 to 87\n",
            "Data columns (total 7 columns):\n",
            " #   Column     Non-Null Count  Dtype  \n",
            "---  ------     --------------  -----  \n",
            " 0   Year       77 non-null     int64  \n",
            " 1   Age        77 non-null     object \n",
            " 2   IMDb       77 non-null     float64\n",
            " 3   Directors  77 non-null     object \n",
            " 4   Genres     77 non-null     object \n",
            " 5   Language   77 non-null     object \n",
            " 6   Runtime    77 non-null     int64  \n",
            "dtypes: float64(1), int64(2), object(4)\n",
            "memory usage: 4.8+ KB\n"
          ],
          "name": "stdout"
        }
      ]
    },
    {
      "cell_type": "code",
      "metadata": {
        "id": "WitsPHyPwq4p"
      },
      "source": [
        "#Elegimos el objetivo(IMDb) y las características\n",
        "y = dataset.IMDb\n",
        "#y = dataset.CineChile\n",
        "\n",
        "X = dataset.drop(['IMDb'], axis=1)\n",
        "#X = dataset.drop(['CineChile'], axis=1)\n",
        "\n",
        "#Dividiendo los datos para el entrenamiento y la prueba\n",
        "X_train_full, X_test_full, y_train, y_test  = train_test_split(X, y,random_state = 0)\n",
        "\n",
        "#Lista de columnas categóricas que se utilizarán como características\n",
        "cat_cols=[\"Age\",\"Directors\",\"Genres\",\"Language\"]\n",
        "\n",
        "#Lista de columnas numéricas que se utilizarán como características\n",
        "numerical_cols = ['Year','Runtime']\n",
        "\n",
        "#Mantener sólo las columnas seleccionadas\n",
        "my_cols = numerical_cols + cat_cols \n",
        "X_train = X_train_full[my_cols].copy()\n",
        "X_test = X_test_full[my_cols].copy()"
      ],
      "execution_count": 13,
      "outputs": []
    },
    {
      "cell_type": "markdown",
      "metadata": {
        "id": "k4oZ8WPUw91g"
      },
      "source": [
        "###ENTRENAMIENTO Y TESTEO"
      ]
    },
    {
      "cell_type": "code",
      "metadata": {
        "colab": {
          "base_uri": "https://localhost:8080/",
          "height": 235
        },
        "id": "2YfEVdzWw_2j",
        "outputId": "faffc450-a9cd-4fec-b30b-e22e44453963"
      },
      "source": [
        "#Visualización de datos de entrenamiento\n",
        "X_train.head()"
      ],
      "execution_count": 14,
      "outputs": [
        {
          "output_type": "execute_result",
          "data": {
            "text/html": [
              "<div>\n",
              "<style scoped>\n",
              "    .dataframe tbody tr th:only-of-type {\n",
              "        vertical-align: middle;\n",
              "    }\n",
              "\n",
              "    .dataframe tbody tr th {\n",
              "        vertical-align: top;\n",
              "    }\n",
              "\n",
              "    .dataframe thead th {\n",
              "        text-align: right;\n",
              "    }\n",
              "</style>\n",
              "<table border=\"1\" class=\"dataframe\">\n",
              "  <thead>\n",
              "    <tr style=\"text-align: right;\">\n",
              "      <th></th>\n",
              "      <th>Year</th>\n",
              "      <th>Runtime</th>\n",
              "      <th>Age</th>\n",
              "      <th>Directors</th>\n",
              "      <th>Genres</th>\n",
              "      <th>Language</th>\n",
              "    </tr>\n",
              "    <tr>\n",
              "      <th>ID</th>\n",
              "      <th></th>\n",
              "      <th></th>\n",
              "      <th></th>\n",
              "      <th></th>\n",
              "      <th></th>\n",
              "      <th></th>\n",
              "    </tr>\n",
              "  </thead>\n",
              "  <tbody>\n",
              "    <tr>\n",
              "      <th>72</th>\n",
              "      <td>2020</td>\n",
              "      <td>93</td>\n",
              "      <td>13+</td>\n",
              "      <td>Rodrigo Sepúlveda</td>\n",
              "      <td>Drama, History, Romance</td>\n",
              "      <td>Spanish</td>\n",
              "    </tr>\n",
              "    <tr>\n",
              "      <th>64</th>\n",
              "      <td>2016</td>\n",
              "      <td>85</td>\n",
              "      <td>all</td>\n",
              "      <td>Christoper Murray</td>\n",
              "      <td>Drama</td>\n",
              "      <td>Spanish</td>\n",
              "    </tr>\n",
              "    <tr>\n",
              "      <th>73</th>\n",
              "      <td>2020</td>\n",
              "      <td>135</td>\n",
              "      <td>7+</td>\n",
              "      <td>David Albala</td>\n",
              "      <td>Drama, Thriller</td>\n",
              "      <td>Spanish</td>\n",
              "    </tr>\n",
              "    <tr>\n",
              "      <th>67</th>\n",
              "      <td>2015</td>\n",
              "      <td>88</td>\n",
              "      <td>13+</td>\n",
              "      <td>Matías Bize</td>\n",
              "      <td>Drama, Romance</td>\n",
              "      <td>Spanish</td>\n",
              "    </tr>\n",
              "    <tr>\n",
              "      <th>83</th>\n",
              "      <td>2013</td>\n",
              "      <td>73</td>\n",
              "      <td>18+</td>\n",
              "      <td>George Vonknorring</td>\n",
              "      <td>Action, Crime</td>\n",
              "      <td>Spanish</td>\n",
              "    </tr>\n",
              "  </tbody>\n",
              "</table>\n",
              "</div>"
            ],
            "text/plain": [
              "    Year  Runtime  Age           Directors                   Genres Language\n",
              "ID                                                                          \n",
              "72  2020       93  13+   Rodrigo Sepúlveda  Drama, History, Romance  Spanish\n",
              "64  2016       85  all   Christoper Murray                    Drama  Spanish\n",
              "73  2020      135   7+        David Albala          Drama, Thriller  Spanish\n",
              "67  2015       88  13+         Matías Bize           Drama, Romance  Spanish\n",
              "83  2013       73  18+  George Vonknorring            Action, Crime  Spanish"
            ]
          },
          "metadata": {
            "tags": []
          },
          "execution_count": 14
        }
      ]
    },
    {
      "cell_type": "code",
      "metadata": {
        "colab": {
          "base_uri": "https://localhost:8080/",
          "height": 235
        },
        "id": "PtzE9nI2xJCU",
        "outputId": "acf57cdb-9902-49b3-adc9-e5aa99152de7"
      },
      "source": [
        "#Visualización de datos de prueba\n",
        "X_test.head()"
      ],
      "execution_count": 16,
      "outputs": [
        {
          "output_type": "execute_result",
          "data": {
            "text/html": [
              "<div>\n",
              "<style scoped>\n",
              "    .dataframe tbody tr th:only-of-type {\n",
              "        vertical-align: middle;\n",
              "    }\n",
              "\n",
              "    .dataframe tbody tr th {\n",
              "        vertical-align: top;\n",
              "    }\n",
              "\n",
              "    .dataframe thead th {\n",
              "        text-align: right;\n",
              "    }\n",
              "</style>\n",
              "<table border=\"1\" class=\"dataframe\">\n",
              "  <thead>\n",
              "    <tr style=\"text-align: right;\">\n",
              "      <th></th>\n",
              "      <th>Year</th>\n",
              "      <th>Runtime</th>\n",
              "      <th>Age</th>\n",
              "      <th>Directors</th>\n",
              "      <th>Genres</th>\n",
              "      <th>Language</th>\n",
              "    </tr>\n",
              "    <tr>\n",
              "      <th>ID</th>\n",
              "      <th></th>\n",
              "      <th></th>\n",
              "      <th></th>\n",
              "      <th></th>\n",
              "      <th></th>\n",
              "      <th></th>\n",
              "    </tr>\n",
              "  </thead>\n",
              "  <tbody>\n",
              "    <tr>\n",
              "      <th>57</th>\n",
              "      <td>1974</td>\n",
              "      <td>60</td>\n",
              "      <td>all</td>\n",
              "      <td>Raúl Ruiz</td>\n",
              "      <td>Drama</td>\n",
              "      <td>Spanish</td>\n",
              "    </tr>\n",
              "    <tr>\n",
              "      <th>85</th>\n",
              "      <td>2007</td>\n",
              "      <td>90</td>\n",
              "      <td>all</td>\n",
              "      <td>Ernesto Díaz Espinoza</td>\n",
              "      <td>Animation, Action, Comedy, Crime, Family</td>\n",
              "      <td>Spanish</td>\n",
              "    </tr>\n",
              "    <tr>\n",
              "      <th>70</th>\n",
              "      <td>2020</td>\n",
              "      <td>91</td>\n",
              "      <td>18+</td>\n",
              "      <td>Gaspar Antillo</td>\n",
              "      <td>Drama, Music</td>\n",
              "      <td>Spanish, English</td>\n",
              "    </tr>\n",
              "    <tr>\n",
              "      <th>65</th>\n",
              "      <td>2006</td>\n",
              "      <td>110</td>\n",
              "      <td>all</td>\n",
              "      <td>Pablo Larraín</td>\n",
              "      <td>Drama, Music, Thriller</td>\n",
              "      <td>Spanish</td>\n",
              "    </tr>\n",
              "    <tr>\n",
              "      <th>37</th>\n",
              "      <td>2000</td>\n",
              "      <td>140</td>\n",
              "      <td>13+</td>\n",
              "      <td>Silvio Caiozzi</td>\n",
              "      <td>Drama, Romance</td>\n",
              "      <td>Spanish</td>\n",
              "    </tr>\n",
              "  </tbody>\n",
              "</table>\n",
              "</div>"
            ],
            "text/plain": [
              "    Year  Runtime  ...                                    Genres          Language\n",
              "ID                 ...                                                            \n",
              "57  1974       60  ...                                     Drama           Spanish\n",
              "85  2007       90  ...  Animation, Action, Comedy, Crime, Family           Spanish\n",
              "70  2020       91  ...                              Drama, Music  Spanish, English\n",
              "65  2006      110  ...                    Drama, Music, Thriller           Spanish\n",
              "37  2000      140  ...                            Drama, Romance           Spanish\n",
              "\n",
              "[5 rows x 6 columns]"
            ]
          },
          "metadata": {
            "tags": []
          },
          "execution_count": 16
        }
      ]
    },
    {
      "cell_type": "code",
      "metadata": {
        "id": "6g1BYhgNxOk_"
      },
      "source": [
        "#Copiando los datos para evitar el cambio en el dataset original\n",
        "label_X_train = X_train.copy()\n",
        "label_X_test = X_test.copy()\n",
        "\n",
        "#Aplicar el codificador de etiquetas a cada columna con datos categóricos\n",
        "label_encoder = LabelEncoder()\n",
        "for col in cat_cols:\n",
        "    label_encoder.fit(pd.concat([label_X_train[col], label_X_test[col]], axis=0, sort=False))\n",
        "    label_X_train[col] = label_encoder.transform(label_X_train[col])\n",
        "    label_X_test[col] = label_encoder.transform(label_X_test[col])"
      ],
      "execution_count": 17,
      "outputs": []
    },
    {
      "cell_type": "markdown",
      "metadata": {
        "id": "INH2Ak_7xWMq"
      },
      "source": [
        "###Modelos"
      ]
    },
    {
      "cell_type": "code",
      "metadata": {
        "id": "YaF3GoyZxXWb"
      },
      "source": [
        "#Modelos Definidos\n",
        "model_1 = RandomForestRegressor(n_estimators=50, random_state=1)\n",
        "model_2 = RandomForestRegressor(n_estimators=100, random_state=1)\n",
        "model_3 = RandomForestRegressor(n_estimators=100, criterion='mae', random_state=1)\n",
        "model_4 = RandomForestRegressor(n_estimators=200, min_samples_split=20, random_state=1)\n",
        "model_5 = RandomForestRegressor(n_estimators=100, max_depth=7, random_state=1)\n",
        "\n",
        "model_6 = RandomForestRegressor(n_estimators=50, max_depth=7, random_state=1)\n",
        "model_7 = RandomForestRegressor(n_estimators=300, max_depth=9, random_state=1)\n",
        "model_8 = RandomForestRegressor(n_estimators=400, max_depth=8, random_state=1)\n",
        "model_9 = RandomForestRegressor(n_estimators=500, min_samples_split=20, max_depth=10, random_state=1)\n",
        "model_10 = RandomForestRegressor(n_estimators=1000, max_depth=10, random_state=1)\n",
        "\n",
        "#Lista de modelos\n",
        "models = [model_1, model_2, model_3, model_4, model_5, model_6, model_7, model_8, model_9, model_10]"
      ],
      "execution_count": 23,
      "outputs": []
    },
    {
      "cell_type": "markdown",
      "metadata": {
        "id": "JJjsmBLixcor"
      },
      "source": [
        "###Resultados"
      ]
    },
    {
      "cell_type": "code",
      "metadata": {
        "colab": {
          "base_uri": "https://localhost:8080/"
        },
        "id": "Txj82O8ixeeb",
        "outputId": "12c5daaa-c706-4f8d-bf51-865fd97b1117"
      },
      "source": [
        "#Función para comparar diferentes modelos\n",
        "def score_model(model, X_t=label_X_train, X_v=label_X_test, y_t=y_train, y_v=y_test):\n",
        "    model.fit(X_t, y_t)\n",
        "    preds = model.predict(X_v)\n",
        "    return mean_absolute_error(y_v, preds)\n",
        "mae_scores=[]\n",
        "for i in range(0, len(models)):\n",
        "    mae = score_model(models[i])\n",
        "    print(\"Modelo %d MAE(Error medio absoluto): %f\" % (i+1, mae))\n",
        "    mae_scores.append(mae)"
      ],
      "execution_count": 24,
      "outputs": [
        {
          "output_type": "stream",
          "text": [
            "Modelo 1 MAE(Error medio absoluto): 0.481400\n",
            "Modelo 2 MAE(Error medio absoluto): 0.479400\n",
            "Modelo 3 MAE(Error medio absoluto): 0.457450\n",
            "Modelo 4 MAE(Error medio absoluto): 0.450187\n",
            "Modelo 5 MAE(Error medio absoluto): 0.482624\n",
            "Modelo 6 MAE(Error medio absoluto): 0.485964\n",
            "Modelo 7 MAE(Error medio absoluto): 0.457808\n",
            "Modelo 8 MAE(Error medio absoluto): 0.452970\n",
            "Modelo 9 MAE(Error medio absoluto): 0.453152\n",
            "Modelo 10 MAE(Error medio absoluto): 0.460157\n"
          ],
          "name": "stdout"
        }
      ]
    },
    {
      "cell_type": "code",
      "metadata": {
        "id": "P2HSYJjoy3S8",
        "colab": {
          "base_uri": "https://localhost:8080/"
        },
        "outputId": "cf007a7e-3084-4088-c66a-dd8a7e32a961"
      },
      "source": [
        "best_score=min(mae_scores)\n",
        "print(best_score)\n",
        "print(\"Mejor Puntaje {0:.1f}% de error medio absoluto\".format((best_score) * 100))"
      ],
      "execution_count": 25,
      "outputs": [
        {
          "output_type": "stream",
          "text": [
            "0.4501872404688215\n",
            "Mejor Puntaje 45.0% de error medio absoluto\n"
          ],
          "name": "stdout"
        }
      ]
    },
    {
      "cell_type": "markdown",
      "metadata": {
        "id": "3L8Zx8Y_K4PY"
      },
      "source": [
        "###Exportación del Modelo"
      ]
    },
    {
      "cell_type": "code",
      "metadata": {
        "colab": {
          "base_uri": "https://localhost:8080/"
        },
        "id": "axMHl-SdK247",
        "outputId": "12ba423c-d863-488a-d2bd-d02c97cae98a"
      },
      "source": [
        "from sklearn.externals import joblib\n",
        "joblib.dump(model_4, 'modelo_movieratingprediction.joblib')"
      ],
      "execution_count": 27,
      "outputs": [
        {
          "output_type": "execute_result",
          "data": {
            "text/plain": [
              "['modelo_movieratingprediction.joblib']"
            ]
          },
          "metadata": {
            "tags": []
          },
          "execution_count": 27
        }
      ]
    }
  ]
}